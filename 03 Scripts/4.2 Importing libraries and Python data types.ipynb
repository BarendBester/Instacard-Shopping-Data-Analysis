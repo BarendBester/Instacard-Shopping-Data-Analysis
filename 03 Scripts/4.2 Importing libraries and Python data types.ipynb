{
 "cells": [
  {
   "cell_type": "markdown",
   "id": "01c937a6",
   "metadata": {},
   "source": [
    "01. Importing libraries"
   ]
  },
  {
   "cell_type": "code",
   "execution_count": 1,
   "id": "39d88155",
   "metadata": {},
   "outputs": [],
   "source": [
    "# Import libraries\n",
    "import pandas as pd\n",
    "import numpy as np\n",
    "import os"
   ]
  },
  {
   "cell_type": "markdown",
   "id": "e77198dd",
   "metadata": {},
   "source": [
    "01. Python Data Types"
   ]
  },
  {
   "cell_type": "code",
   "execution_count": 2,
   "id": "bc317cfb",
   "metadata": {},
   "outputs": [],
   "source": [
    "x = 2"
   ]
  },
  {
   "cell_type": "code",
   "execution_count": 3,
   "id": "55b4f619",
   "metadata": {},
   "outputs": [
    {
     "data": {
      "text/plain": [
       "2"
      ]
     },
     "execution_count": 3,
     "metadata": {},
     "output_type": "execute_result"
    }
   ],
   "source": [
    "x"
   ]
  },
  {
   "cell_type": "code",
   "execution_count": 4,
   "id": "8bc8613f",
   "metadata": {},
   "outputs": [
    {
     "name": "stdout",
     "output_type": "stream",
     "text": [
      "2\n"
     ]
    }
   ],
   "source": [
    "print(x)"
   ]
  },
  {
   "cell_type": "code",
   "execution_count": 5,
   "id": "714aa453",
   "metadata": {},
   "outputs": [
    {
     "data": {
      "text/plain": [
       "int"
      ]
     },
     "execution_count": 5,
     "metadata": {},
     "output_type": "execute_result"
    }
   ],
   "source": [
    "type(x)"
   ]
  },
  {
   "cell_type": "code",
   "execution_count": 6,
   "id": "1232cad6",
   "metadata": {},
   "outputs": [],
   "source": [
    "y = 5.678"
   ]
  },
  {
   "cell_type": "code",
   "execution_count": 7,
   "id": "3c7c4527",
   "metadata": {},
   "outputs": [
    {
     "data": {
      "text/plain": [
       "float"
      ]
     },
     "execution_count": 7,
     "metadata": {},
     "output_type": "execute_result"
    }
   ],
   "source": [
    "type(y)"
   ]
  },
  {
   "cell_type": "code",
   "execution_count": 8,
   "id": "54f483c1",
   "metadata": {},
   "outputs": [],
   "source": [
    "z = 'Brazil'"
   ]
  },
  {
   "cell_type": "code",
   "execution_count": 9,
   "id": "c19d598d",
   "metadata": {},
   "outputs": [
    {
     "data": {
      "text/plain": [
       "str"
      ]
     },
     "execution_count": 9,
     "metadata": {},
     "output_type": "execute_result"
    }
   ],
   "source": [
    "type(z)"
   ]
  },
  {
   "cell_type": "code",
   "execution_count": 10,
   "id": "1133d780",
   "metadata": {},
   "outputs": [
    {
     "data": {
      "text/plain": [
       "6"
      ]
     },
     "execution_count": 10,
     "metadata": {},
     "output_type": "execute_result"
    }
   ],
   "source": [
    "x+4"
   ]
  },
  {
   "cell_type": "code",
   "execution_count": 11,
   "id": "662cea2c",
   "metadata": {},
   "outputs": [
    {
     "data": {
      "text/plain": [
       "7.678"
      ]
     },
     "execution_count": 11,
     "metadata": {},
     "output_type": "execute_result"
    }
   ],
   "source": [
    "x+y"
   ]
  },
  {
   "cell_type": "code",
   "execution_count": 12,
   "id": "15aefc49",
   "metadata": {},
   "outputs": [
    {
     "ename": "NameError",
     "evalue": "name 'Land' is not defined",
     "output_type": "error",
     "traceback": [
      "\u001b[1;31m---------------------------------------------------------------------------\u001b[0m",
      "\u001b[1;31mNameError\u001b[0m                                 Traceback (most recent call last)",
      "Cell \u001b[1;32mIn[12], line 1\u001b[0m\n\u001b[1;32m----> 1\u001b[0m a \u001b[38;5;241m=\u001b[39m \u001b[43mLand\u001b[49m\n",
      "\u001b[1;31mNameError\u001b[0m: name 'Land' is not defined"
     ]
    }
   ],
   "source": [
    "a = Land"
   ]
  },
  {
   "cell_type": "code",
   "execution_count": 13,
   "id": "f199f9d4",
   "metadata": {},
   "outputs": [],
   "source": [
    "a = 'Land'"
   ]
  },
  {
   "cell_type": "code",
   "execution_count": 14,
   "id": "10264236",
   "metadata": {},
   "outputs": [
    {
     "data": {
      "text/plain": [
       "'LandBrazil'"
      ]
     },
     "execution_count": 14,
     "metadata": {},
     "output_type": "execute_result"
    }
   ],
   "source": [
    "a+z"
   ]
  },
  {
   "cell_type": "code",
   "execution_count": 15,
   "id": "0d632962",
   "metadata": {},
   "outputs": [
    {
     "data": {
      "text/plain": [
       "'Land Brazil'"
      ]
     },
     "execution_count": 15,
     "metadata": {},
     "output_type": "execute_result"
    }
   ],
   "source": [
    "a+' '+z"
   ]
  },
  {
   "cell_type": "code",
   "execution_count": 16,
   "id": "e970edb9",
   "metadata": {},
   "outputs": [
    {
     "data": {
      "text/plain": [
       "False"
      ]
     },
     "execution_count": 16,
     "metadata": {},
     "output_type": "execute_result"
    }
   ],
   "source": [
    "x==y"
   ]
  },
  {
   "cell_type": "code",
   "execution_count": 17,
   "id": "b9d2602c",
   "metadata": {},
   "outputs": [],
   "source": [
    "a = 20\n",
    "b = 120\n",
    "c = 10"
   ]
  },
  {
   "cell_type": "code",
   "execution_count": 18,
   "id": "bd798ed2",
   "metadata": {},
   "outputs": [
    {
     "data": {
      "text/plain": [
       "100"
      ]
     },
     "execution_count": 18,
     "metadata": {},
     "output_type": "execute_result"
    }
   ],
   "source": [
    "b-a"
   ]
  },
  {
   "cell_type": "code",
   "execution_count": 19,
   "id": "1bfd92ce",
   "metadata": {},
   "outputs": [
    {
     "data": {
      "text/plain": [
       "-100"
      ]
     },
     "execution_count": 19,
     "metadata": {},
     "output_type": "execute_result"
    }
   ],
   "source": [
    "(c+c)-b"
   ]
  },
  {
   "cell_type": "code",
   "execution_count": 20,
   "id": "8c380cc7",
   "metadata": {},
   "outputs": [
    {
     "data": {
      "text/plain": [
       "100"
      ]
     },
     "execution_count": 20,
     "metadata": {},
     "output_type": "execute_result"
    }
   ],
   "source": [
    "b-(c+c)"
   ]
  },
  {
   "cell_type": "code",
   "execution_count": 21,
   "id": "069be907",
   "metadata": {},
   "outputs": [
    {
     "data": {
      "text/plain": [
       "100"
      ]
     },
     "execution_count": 21,
     "metadata": {},
     "output_type": "execute_result"
    }
   ],
   "source": [
    "a+a+a+a+a"
   ]
  },
  {
   "cell_type": "code",
   "execution_count": 22,
   "id": "adeca3be",
   "metadata": {},
   "outputs": [],
   "source": [
    "e = 3242354.23\n",
    "f = 2834.43"
   ]
  },
  {
   "cell_type": "code",
   "execution_count": 23,
   "id": "e0c54b06",
   "metadata": {},
   "outputs": [
    {
     "data": {
      "text/plain": [
       "1143.9175530882753"
      ]
     },
     "execution_count": 23,
     "metadata": {},
     "output_type": "execute_result"
    }
   ],
   "source": [
    "e/f"
   ]
  },
  {
   "cell_type": "code",
   "execution_count": 24,
   "id": "c22e7c98",
   "metadata": {},
   "outputs": [
    {
     "data": {
      "text/plain": [
       "'Mike Bester'"
      ]
     },
     "execution_count": 24,
     "metadata": {},
     "output_type": "execute_result"
    }
   ],
   "source": [
    "g = 'Mike '\n",
    "h = 'Bester'\n",
    "g+h"
   ]
  },
  {
   "cell_type": "code",
   "execution_count": 25,
   "id": "51c95bbe",
   "metadata": {},
   "outputs": [],
   "source": [
    "i = ' die beste'\n",
    "j = ' met visvang'"
   ]
  },
  {
   "cell_type": "code",
   "execution_count": 26,
   "id": "d9899933",
   "metadata": {},
   "outputs": [
    {
     "data": {
      "text/plain": [
       "'Mike Bester die beste met visvang'"
      ]
     },
     "execution_count": 26,
     "metadata": {},
     "output_type": "execute_result"
    }
   ],
   "source": [
    "g+h+i+j"
   ]
  },
  {
   "cell_type": "code",
   "execution_count": null,
   "id": "8549e0f9",
   "metadata": {},
   "outputs": [],
   "source": []
  }
 ],
 "metadata": {
  "kernelspec": {
   "display_name": "Python 3 (ipykernel)",
   "language": "python",
   "name": "python3"
  },
  "language_info": {
   "codemirror_mode": {
    "name": "ipython",
    "version": 3
   },
   "file_extension": ".py",
   "mimetype": "text/x-python",
   "name": "python",
   "nbconvert_exporter": "python",
   "pygments_lexer": "ipython3",
   "version": "3.10.9"
  }
 },
 "nbformat": 4,
 "nbformat_minor": 5
}
