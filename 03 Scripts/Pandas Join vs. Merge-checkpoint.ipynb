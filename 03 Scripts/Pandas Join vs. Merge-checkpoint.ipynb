{
 "cells": [
  {
   "cell_type": "markdown",
   "id": "744d0e48",
   "metadata": {},
   "source": [
    "1. We need to run some reports on our firm’s sales department to see how they are doing and are given the data in the following dictionaries:"
   ]
  },
  {
   "cell_type": "code",
   "execution_count": 1,
   "id": "20719bf9",
   "metadata": {},
   "outputs": [],
   "source": [
    "import numpy as np\n",
    "import pandas as pd"
   ]
  },
  {
   "cell_type": "code",
   "execution_count": 2,
   "id": "5ac1d8a1",
   "metadata": {},
   "outputs": [],
   "source": [
    "# create df 1 of sales by employees\n",
    "sales = {'Tony': 103,\n",
    "        'Sally': 202,\n",
    "        'Randy': 380,\n",
    "        'Ellen': 101,\n",
    "        'Fred': 82}"
   ]
  },
  {
   "cell_type": "code",
   "execution_count": 3,
   "id": "a4532253",
   "metadata": {},
   "outputs": [],
   "source": [
    "# Dataframe of all employees and the region they work in\n",
    "region = {'Tony': 'West',\n",
    "          'Sally': 'South',\n",
    "          'Carl': 'West',\n",
    "          'Archie': 'North',\n",
    "          'Randy': 'East',\n",
    "          'Ellen': 'South',\n",
    "          'Fred': np.nan,\n",
    "          'Mo': 'East',\n",
    "          'HanWei': np.nan,\n",
    "         }"
   ]
  },
  {
   "cell_type": "code",
   "execution_count": 4,
   "id": "e4a8e07b",
   "metadata": {},
   "outputs": [],
   "source": [
    "#create the dataframes from the list\n",
    "sales_df = pd.DataFrame.from_dict(sales, orient = 'index', columns = ['sales'])\n",
    "region_df = pd.DataFrame.from_dict(region, orient = 'index', columns = ['region'])"
   ]
  },
  {
   "cell_type": "code",
   "execution_count": 5,
   "id": "7450e3c9",
   "metadata": {},
   "outputs": [
    {
     "data": {
      "text/html": [
       "<div>\n",
       "<style scoped>\n",
       "    .dataframe tbody tr th:only-of-type {\n",
       "        vertical-align: middle;\n",
       "    }\n",
       "\n",
       "    .dataframe tbody tr th {\n",
       "        vertical-align: top;\n",
       "    }\n",
       "\n",
       "    .dataframe thead th {\n",
       "        text-align: right;\n",
       "    }\n",
       "</style>\n",
       "<table border=\"1\" class=\"dataframe\">\n",
       "  <thead>\n",
       "    <tr style=\"text-align: right;\">\n",
       "      <th></th>\n",
       "      <th>sales</th>\n",
       "    </tr>\n",
       "  </thead>\n",
       "  <tbody>\n",
       "    <tr>\n",
       "      <th>Tony</th>\n",
       "      <td>103</td>\n",
       "    </tr>\n",
       "    <tr>\n",
       "      <th>Sally</th>\n",
       "      <td>202</td>\n",
       "    </tr>\n",
       "    <tr>\n",
       "      <th>Randy</th>\n",
       "      <td>380</td>\n",
       "    </tr>\n",
       "    <tr>\n",
       "      <th>Ellen</th>\n",
       "      <td>101</td>\n",
       "    </tr>\n",
       "    <tr>\n",
       "      <th>Fred</th>\n",
       "      <td>82</td>\n",
       "    </tr>\n",
       "  </tbody>\n",
       "</table>\n",
       "</div>"
      ],
      "text/plain": [
       "       sales\n",
       "Tony     103\n",
       "Sally    202\n",
       "Randy    380\n",
       "Ellen    101\n",
       "Fred      82"
      ]
     },
     "execution_count": 5,
     "metadata": {},
     "output_type": "execute_result"
    }
   ],
   "source": [
    "sales_df.head()"
   ]
  },
  {
   "cell_type": "code",
   "execution_count": 6,
   "id": "fa7f57fa",
   "metadata": {},
   "outputs": [
    {
     "data": {
      "text/html": [
       "<div>\n",
       "<style scoped>\n",
       "    .dataframe tbody tr th:only-of-type {\n",
       "        vertical-align: middle;\n",
       "    }\n",
       "\n",
       "    .dataframe tbody tr th {\n",
       "        vertical-align: top;\n",
       "    }\n",
       "\n",
       "    .dataframe thead th {\n",
       "        text-align: right;\n",
       "    }\n",
       "</style>\n",
       "<table border=\"1\" class=\"dataframe\">\n",
       "  <thead>\n",
       "    <tr style=\"text-align: right;\">\n",
       "      <th></th>\n",
       "      <th>region</th>\n",
       "    </tr>\n",
       "  </thead>\n",
       "  <tbody>\n",
       "    <tr>\n",
       "      <th>Tony</th>\n",
       "      <td>West</td>\n",
       "    </tr>\n",
       "    <tr>\n",
       "      <th>Sally</th>\n",
       "      <td>South</td>\n",
       "    </tr>\n",
       "    <tr>\n",
       "      <th>Carl</th>\n",
       "      <td>West</td>\n",
       "    </tr>\n",
       "    <tr>\n",
       "      <th>Archie</th>\n",
       "      <td>North</td>\n",
       "    </tr>\n",
       "    <tr>\n",
       "      <th>Randy</th>\n",
       "      <td>East</td>\n",
       "    </tr>\n",
       "  </tbody>\n",
       "</table>\n",
       "</div>"
      ],
      "text/plain": [
       "       region\n",
       "Tony     West\n",
       "Sally   South\n",
       "Carl     West\n",
       "Archie  North\n",
       "Randy    East"
      ]
     },
     "execution_count": 6,
     "metadata": {},
     "output_type": "execute_result"
    }
   ],
   "source": [
    "region_df.head()"
   ]
  },
  {
   "cell_type": "code",
   "execution_count": 7,
   "id": "c236060b",
   "metadata": {},
   "outputs": [
    {
     "data": {
      "text/plain": [
       "Index(['Tony', 'Sally', 'Randy', 'Ellen', 'Fred'], dtype='object')"
      ]
     },
     "execution_count": 7,
     "metadata": {},
     "output_type": "execute_result"
    }
   ],
   "source": [
    "#index function\n",
    "sales_df.index"
   ]
  },
  {
   "cell_type": "code",
   "execution_count": 8,
   "id": "9d1d8d9d",
   "metadata": {},
   "outputs": [
    {
     "data": {
      "text/plain": [
       "sales    380\n",
       "Name: Randy, dtype: int64"
      ]
     },
     "execution_count": 8,
     "metadata": {},
     "output_type": "execute_result"
    }
   ],
   "source": [
    "#loc function\n",
    "sales_df.loc['Randy']"
   ]
  },
  {
   "cell_type": "markdown",
   "id": "3c7209e3",
   "metadata": {},
   "source": [
    "2. Using the join function"
   ]
  },
  {
   "cell_type": "code",
   "execution_count": 13,
   "id": "69a30e6b",
   "metadata": {},
   "outputs": [
    {
     "name": "stdout",
     "output_type": "stream",
     "text": [
      "       region  sales\n",
      "Tony     West  103.0\n",
      "Sally   South  202.0\n",
      "Carl     West    NaN\n",
      "Archie  North    NaN\n",
      "Randy    East  380.0\n",
      "Ellen   South  101.0\n",
      "Fred      NaN   82.0\n",
      "Mo       East    NaN\n",
      "HanWei    NaN    NaN\n"
     ]
    }
   ],
   "source": [
    "#join function\n",
    "joined_df = region_df.join(sales_df, how = 'left')\n",
    "print(joined_df)"
   ]
  },
  {
   "cell_type": "markdown",
   "id": "ea600422",
   "metadata": {},
   "source": [
    "3. Using merge function"
   ]
  },
  {
   "cell_type": "code",
   "execution_count": 14,
   "id": "78881d97",
   "metadata": {},
   "outputs": [
    {
     "name": "stdout",
     "output_type": "stream",
     "text": [
      "       region  sales\n",
      "Tony     West  103.0\n",
      "Sally   South  202.0\n",
      "Carl     West    NaN\n",
      "Archie  North    NaN\n",
      "Randy    East  380.0\n",
      "Ellen   South  101.0\n",
      "Fred      NaN   82.0\n",
      "Mo       East    NaN\n",
      "HanWei    NaN    NaN\n"
     ]
    }
   ],
   "source": [
    "joined_df_merge = region_df.merge(sales_df, how='left', \n",
    "                                      left_index=True,\n",
    "                                      right_index=True)\n",
    "print(joined_df_merge)"
   ]
  },
  {
   "cell_type": "code",
   "execution_count": 16,
   "id": "98e1c8b7",
   "metadata": {},
   "outputs": [
    {
     "name": "stdout",
     "output_type": "stream",
     "text": [
      "  region  sales\n",
      "0   East  380.0\n",
      "1  North    0.0\n",
      "2  South  303.0\n",
      "3   West  103.0\n"
     ]
    }
   ],
   "source": [
    "grouped_df = joined_df_merge.groupby(by='region').sum()\n",
    "grouped_df.reset_index(inplace=True)\n",
    "print(grouped_df)"
   ]
  },
  {
   "cell_type": "code",
   "execution_count": null,
   "id": "8ab926ae",
   "metadata": {},
   "outputs": [],
   "source": []
  }
 ],
 "metadata": {
  "kernelspec": {
   "display_name": "Python 3 (ipykernel)",
   "language": "python",
   "name": "python3"
  },
  "language_info": {
   "codemirror_mode": {
    "name": "ipython",
    "version": 3
   },
   "file_extension": ".py",
   "mimetype": "text/x-python",
   "name": "python",
   "nbconvert_exporter": "python",
   "pygments_lexer": "ipython3",
   "version": "3.10.9"
  }
 },
 "nbformat": 4,
 "nbformat_minor": 5
}
